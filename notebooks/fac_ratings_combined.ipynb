{
 "cells": [
  {
   "cell_type": "code",
   "execution_count": 1,
   "id": "f17485d3-b191-4357-856d-9590f8bc5362",
   "metadata": {},
   "outputs": [],
   "source": [
    "import pandas as pd\n",
    "import numpy as np"
   ]
  },
  {
   "cell_type": "code",
   "execution_count": 23,
   "id": "2df08330-94c7-46ca-acd5-966b6a8dbc58",
   "metadata": {},
   "outputs": [
    {
     "name": "stderr",
     "output_type": "stream",
     "text": [
      "C:\\Users\\KLSHA\\AppData\\Local\\Temp\\ipykernel_49000\\3228084741.py:1: DtypeWarning: Columns (12,14,17,19) have mixed types. Specify dtype option on import or set low_memory=False.\n",
      "  survey = pd.read_csv(\"../data/capstone_pt_survey.csv\")\n"
     ]
    }
   ],
   "source": [
    "survey = pd.read_csv(\"../data/capstone_pt_survey.csv\")"
   ]
  },
  {
   "cell_type": "markdown",
   "id": "8e1254e4-456c-4e63-9433-b91043b8610f",
   "metadata": {},
   "source": [
    "## When reading in the CSV, got an error for low memory and dtypes- Took No Available/Not Applicable values in the columns 12, 14, 17, and 19 and converted them to a zero numerical value ##"
   ]
  },
  {
   "cell_type": "code",
   "execution_count": 27,
   "id": "bbf3e45d-b859-4e8b-9268-877796615a7e",
   "metadata": {},
   "outputs": [],
   "source": [
    "survey = pd.read_csv(\"../data/capstone_pt_survey.csv\", low_memory=False)"
   ]
  },
  {
   "cell_type": "code",
   "execution_count": null,
   "id": "f352ce64-4faa-4c0e-873c-13d310221306",
   "metadata": {},
   "outputs": [],
   "source": []
  }
 ],
 "metadata": {
  "kernelspec": {
   "display_name": "Python 3 (ipykernel)",
   "language": "python",
   "name": "python3"
  },
  "language_info": {
   "codemirror_mode": {
    "name": "ipython",
    "version": 3
   },
   "file_extension": ".py",
   "mimetype": "text/x-python",
   "name": "python",
   "nbconvert_exporter": "python",
   "pygments_lexer": "ipython3",
   "version": "3.12.7"
  }
 },
 "nbformat": 4,
 "nbformat_minor": 5
}
